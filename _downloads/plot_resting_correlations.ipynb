{
  "nbformat_minor": 0, 
  "nbformat": 4, 
  "cells": [
    {
      "execution_count": null, 
      "cell_type": "code", 
      "source": [
        "%matplotlib inline"
      ], 
      "outputs": [], 
      "metadata": {
        "collapsed": false
      }
    }, 
    {
      "source": [
        "\nDisplay Resting-State Correlations\n==================================\n\nIn this example, we show how to build up a complex visualization of a\nvolume-based image showing resting-state correlations across the whole brain\nfrom a seed in the angular gyrus. We'll plot several views of both hemispheres\nin a single window and manipulate the colormap to best represent the nature of\nthe data.\n\n\n"
      ], 
      "cell_type": "markdown", 
      "metadata": {}
    }, 
    {
      "execution_count": null, 
      "cell_type": "code", 
      "source": [
        "import os\nfrom surfer import Brain, project_volume_data\n\nprint(__doc__)\n\n\"\"\"Bring up the visualization\"\"\"\nbrain = Brain(\"fsaverage\", \"split\", \"inflated\",\n              views=['lat', 'med'], background=\"white\")\n\n\"\"\"Project the volume file and return as an array\"\"\"\nmri_file = \"example_data/resting_corr.nii.gz\"\nreg_file = os.path.join(os.environ[\"FREESURFER_HOME\"],\n                        \"average/mni152.register.dat\")\nsurf_data_lh = project_volume_data(mri_file, \"lh\", reg_file)\nsurf_data_rh = project_volume_data(mri_file, \"rh\", reg_file)\n\n\"\"\"\nYou can pass this array to the add_overlay method for a typical activation\noverlay (with thresholding, etc.).\n\"\"\"\nbrain.add_overlay(surf_data_lh, min=.3, max=.7, name=\"ang_corr_lh\", hemi='lh')\nbrain.add_overlay(surf_data_rh, min=.3, max=.7, name=\"ang_corr_rh\", hemi='rh')\n\n\"\"\"\nYou can also pass it to add_data for more control\nover the visualization. Here we'll plot the whole\nrange of correlations\n\"\"\"\nfor overlay in brain.overlays_dict[\"ang_corr_lh\"]:\n    overlay.remove()\nfor overlay in brain.overlays_dict[\"ang_corr_rh\"]:\n    overlay.remove()\n\n\"\"\"\nWe want to use an appropriate color map for these data: a divergent map that\nis centered on 0, which is a meaningful transition-point as it marks the change\nfrom negative correlations to positive correlations.\n\nWe'll also plot the map with some transparency so that we can see through to\nthe underlying anatomy.\n\"\"\"\nbrain.add_data(surf_data_lh, -.7, .7, colormap=\"vlag\", alpha=.75,\n               hemi='lh')\nbrain.add_data(surf_data_rh, -.7, .7, colormap=\"vlag\", alpha=.75,\n               hemi='rh')\n\n\"\"\"\nThis overlay represents resting-state correlations with a\nseed in left angular gyrus. Let's plot that seed.\n\"\"\"\nseed_coords = (-45, -67, 36)\nbrain.add_foci(seed_coords, map_surface=\"white\", hemi='lh')"
      ], 
      "outputs": [], 
      "metadata": {
        "collapsed": false
      }
    }
  ], 
  "metadata": {
    "kernelspec": {
      "display_name": "Python 2", 
      "name": "python2", 
      "language": "python"
    }, 
    "language_info": {
      "mimetype": "text/x-python", 
      "nbconvert_exporter": "python", 
      "name": "python", 
      "file_extension": ".py", 
      "version": "2.7.13", 
      "pygments_lexer": "ipython2", 
      "codemirror_mode": {
        "version": 2, 
        "name": "ipython"
      }
    }
  }
}