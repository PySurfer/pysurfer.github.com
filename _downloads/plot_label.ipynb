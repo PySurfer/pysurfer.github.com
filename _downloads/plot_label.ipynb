{
  "nbformat_minor": 0, 
  "nbformat": 4, 
  "cells": [
    {
      "execution_count": null, 
      "cell_type": "code", 
      "source": [
        "%matplotlib inline"
      ], 
      "outputs": [], 
      "metadata": {
        "collapsed": false
      }
    }, 
    {
      "source": [
        "\nDisplay ROI Labels\n==================\n\nUsing PySurfer you can plot Freesurfer cortical labels on the surface\nwith a large amount of control over the visual representation.\n\n\n"
      ], 
      "cell_type": "markdown", 
      "metadata": {}
    }, 
    {
      "execution_count": null, 
      "cell_type": "code", 
      "source": [
        "import os\nfrom surfer import Brain\n\nprint(__doc__)\n\nsubject_id = \"fsaverage\"\nhemi = \"lh\"\nsurf = \"smoothwm\"\nbrain = Brain(subject_id, hemi, surf)\n\n# If the label lives in the normal place in the subjects directory,\n# you can plot it by just using the name\nbrain.add_label(\"BA1_exvivo\")\n\n# Some labels have an associated scalar value at each ID in the label.\n# For example, they may be probabilistically defined. You can threshold\n# what vertices show up in the label using this scalar data\nbrain.add_label(\"BA1_exvivo\", color=\"blue\", scalar_thresh=.5)\n\n# Or you can give a path to a label in an arbitrary location\nsubj_dir = os.environ[\"SUBJECTS_DIR\"]\nlabel_file = os.path.join(subj_dir, subject_id,\n                          \"label\", \"%s.MT_exvivo.label\" % hemi)\nbrain.add_label(label_file)\n\n# By default the label is 'filled-in', but you can\n# plot just the label boundaries\nbrain.add_label(\"BA44_exvivo\", borders=True)\n\n# You can also control the opacity of the label color\nbrain.add_label(\"BA6_exvivo\", alpha=.7)\n\n# Finally, you can plot the label in any color you want.\nbrain.show_view(dict(azimuth=-42, elevation=105, distance=225,\n                     focalpoint=[-30, -20, 15]))\n\n# Use any valid matplotlib color.\nbrain.add_label(\"V1_exvivo\", color=\"steelblue\", alpha=.6)\nbrain.add_label(\"V2_exvivo\", color=\"#FF6347\", alpha=.6)\nbrain.add_label(\"entorhinal_exvivo\", color=(.2, 1, .5), alpha=.6)"
      ], 
      "outputs": [], 
      "metadata": {
        "collapsed": false
      }
    }
  ], 
  "metadata": {
    "kernelspec": {
      "display_name": "Python 2", 
      "name": "python2", 
      "language": "python"
    }, 
    "language_info": {
      "mimetype": "text/x-python", 
      "nbconvert_exporter": "python", 
      "name": "python", 
      "file_extension": ".py", 
      "version": "2.7.13", 
      "pygments_lexer": "ipython2", 
      "codemirror_mode": {
        "version": 2, 
        "name": "ipython"
      }
    }
  }
}