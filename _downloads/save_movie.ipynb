{
  "nbformat_minor": 0, 
  "nbformat": 4, 
  "cells": [
    {
      "execution_count": null, 
      "cell_type": "code", 
      "source": [
        "%matplotlib inline"
      ], 
      "outputs": [], 
      "metadata": {
        "collapsed": false
      }
    }, 
    {
      "source": [
        "\nCreate movie from  MEG inverse solution\n=======================================\n\nData were computed using mne-python (http://martinos.org/mne)\n\n\n"
      ], 
      "cell_type": "markdown", 
      "metadata": {}
    }, 
    {
      "execution_count": null, 
      "cell_type": "code", 
      "source": [
        "import os\nimport numpy as np\n\nfrom surfer import Brain\nfrom surfer.io import read_stc\n\nprint(__doc__)\n\n\"\"\"\ncreate Brain object for visualization\n\"\"\"\nbrain = Brain('fsaverage', 'split', 'inflated', size=(800, 400))\n\n\"\"\"\nread and display MNE dSPM inverse solution\n\"\"\"\nstc_fname = os.path.join('example_data', 'meg_source_estimate-%s.stc')\nfor hemi in ['lh', 'rh']:\n    stc = read_stc(stc_fname % hemi)\n    data = stc['data']\n    times = np.arange(data.shape[1]) * stc['tstep'] + stc['tmin']\n    brain.add_data(data, colormap='hot', vertices=stc['vertices'],\n                   smoothing_steps=10, time=times, hemi=hemi,\n                   time_label=lambda t: '%s ms' % int(round(t * 1e3)))\n\n\"\"\"\nscale colormap\n\"\"\"\nbrain.scale_data_colormap(fmin=13, fmid=18, fmax=22, transparent=True)\n\n\"\"\"\nSave a movie. Use a large value for time_dilation because the sample stc only\ncovers 30 ms.\n\"\"\"\nbrain.save_movie('example_current.mov', time_dilation=30)\n\nbrain.close()"
      ], 
      "outputs": [], 
      "metadata": {
        "collapsed": false
      }
    }
  ], 
  "metadata": {
    "kernelspec": {
      "display_name": "Python 2", 
      "name": "python2", 
      "language": "python"
    }, 
    "language_info": {
      "mimetype": "text/x-python", 
      "nbconvert_exporter": "python", 
      "name": "python", 
      "file_extension": ".py", 
      "version": "2.7.13", 
      "pygments_lexer": "ipython2", 
      "codemirror_mode": {
        "version": 2, 
        "name": "ipython"
      }
    }
  }
}