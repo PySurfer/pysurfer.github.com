{
  "cells": [
    {
      "cell_type": "code",
      "execution_count": null,
      "metadata": {
        "collapsed": false
      },
      "outputs": [],
      "source": [
        "%matplotlib inline"
      ]
    },
    {
      "cell_type": "markdown",
      "metadata": {},
      "source": [
        "\nCreate movie from  MEG inverse solution\n=======================================\n\nData were computed using mne-python (http://martinos.org/mne)\n"
      ]
    },
    {
      "cell_type": "code",
      "execution_count": null,
      "metadata": {
        "collapsed": false
      },
      "outputs": [],
      "source": [
        "import os\nimport numpy as np\n\nfrom surfer import Brain\nfrom surfer.io import read_stc\n\nprint(__doc__)\n\n\"\"\"\ncreate Brain object for visualization\n\"\"\"\nbrain = Brain('fsaverage', 'split', 'inflated', size=(800, 400))\n\n\"\"\"\nread and display MNE dSPM inverse solution\n\"\"\"\nstc_fname = os.path.join('example_data', 'meg_source_estimate-%s.stc')\nfor hemi in ['lh', 'rh']:\n    stc = read_stc(stc_fname % hemi)\n    data = stc['data']\n    times = np.arange(data.shape[1]) * stc['tstep'] + stc['tmin']\n    brain.add_data(data, colormap='hot', vertices=stc['vertices'],\n                   smoothing_steps=10, time=times, hemi=hemi,\n                   time_label=lambda t: '%s ms' % int(round(t * 1e3)))\n\n\"\"\"\nscale colormap\n\"\"\"\nbrain.scale_data_colormap(fmin=13, fmid=18, fmax=22, transparent=True)\n\n\"\"\"\nSave a movie. Use a large value for time_dilation because the sample stc only\ncovers 30 ms.\n\"\"\"\nbrain.save_movie('example_current.mov', time_dilation=30)\n\nbrain.close()"
      ]
    }
  ],
  "metadata": {
    "kernelspec": {
      "display_name": "Python 3",
      "language": "python",
      "name": "python3"
    },
    "language_info": {
      "codemirror_mode": {
        "name": "ipython",
        "version": 3
      },
      "file_extension": ".py",
      "mimetype": "text/x-python",
      "name": "python",
      "nbconvert_exporter": "python",
      "pygments_lexer": "ipython3",
      "version": "3.8.0"
    }
  },
  "nbformat": 4,
  "nbformat_minor": 0
}