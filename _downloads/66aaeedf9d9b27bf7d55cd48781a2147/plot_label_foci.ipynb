{
  "cells": [
    {
      "cell_type": "code",
      "execution_count": null,
      "metadata": {
        "collapsed": false
      },
      "outputs": [],
      "source": [
        "%matplotlib inline"
      ]
    },
    {
      "cell_type": "markdown",
      "metadata": {},
      "source": [
        "\n# Generate Surface Labels\n\n\nDefine a label that is centered on a specific vertex in the surface mesh. Plot\nthat label and the focus that defines its center.\n"
      ]
    },
    {
      "cell_type": "code",
      "execution_count": null,
      "metadata": {
        "collapsed": false
      },
      "outputs": [],
      "source": [
        "from surfer import Brain, utils\n\nprint(__doc__)\n\nsubject_id = \"fsaverage\"\n\n\"\"\"\nBring up the visualization.\n\"\"\"\nbrain = Brain(subject_id, \"lh\", \"inflated\", cortex=(\"gray\", -2, 7, True),\n              units='m')\n\n\"\"\"\nFirst we'll identify a stereotaxic focus in the MNI coordinate system. This\nmight be a peak activations from a volume based analysis.\n\"\"\"\ncoord = [-43, 25, 24]\n\n\"\"\"\nNext we grow a label along the surface around the neareset vertex to this\ncoordinate in the white surface mesh. The `n_steps` argument controls the size\nof the resulting label.\n\"\"\"\nutils.coord_to_label(subject_id, coord, label='example_data/coord',\n                     hemi='lh', n_steps=25, map_surface=\"white\")\nbrain.add_label('example_data/coord-lh.label', color=\"darkseagreen\", alpha=.8)\n\n\"\"\"\nNow we plot the focus on the inflated surface at the vertex identified in the\nprevious step.\n\"\"\"\nbrain.add_foci([coord], map_surface=\"white\", color=\"mediumseagreen\")\n\n\"\"\"\nWe can also do this using a vertex index, perhaps defined as the peak\nactivation in a surface analysis. This will be more accurate than using a\nvolume-based focus.\n\"\"\"\ncoord = 0\n\nutils.coord_to_label(subject_id, coord, label='example_data/coord',\n                     hemi='lh', n_steps=40, map_surface=\"white\",\n                     coord_as_vert=True)\nbrain.add_label('example_data/coord-lh.label', color='royalblue', alpha=.8)\n\n\"\"\"\nNow we plot the foci on the inflated surface. We will map the foci onto the\nsurface by finding the vertex on the \"white\" mesh that is closest to the\ncoordinate of the point we want to display.\n\"\"\"\nbrain.add_foci([coord], map_surface=\"white\", coords_as_verts=True,\n               color=\"mediumblue\")\n\n\"\"\"\nSet the camera position to show the extent of the labels.\n\"\"\"\nbrain.show_view(dict(elevation=40, distance=0.430))"
      ]
    }
  ],
  "metadata": {
    "kernelspec": {
      "display_name": "Python 3",
      "language": "python",
      "name": "python3"
    },
    "language_info": {
      "codemirror_mode": {
        "name": "ipython",
        "version": 3
      },
      "file_extension": ".py",
      "mimetype": "text/x-python",
      "name": "python",
      "nbconvert_exporter": "python",
      "pygments_lexer": "ipython3",
      "version": "3.8.0"
    }
  },
  "nbformat": 4,
  "nbformat_minor": 0
}