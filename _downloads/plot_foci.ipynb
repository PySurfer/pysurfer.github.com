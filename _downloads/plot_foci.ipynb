{
  "nbformat_minor": 0, 
  "nbformat": 4, 
  "cells": [
    {
      "execution_count": null, 
      "cell_type": "code", 
      "source": [
        "%matplotlib inline"
      ], 
      "outputs": [], 
      "metadata": {
        "collapsed": false
      }
    }, 
    {
      "source": [
        "\n# Plot Activation Foci\n\n\nPlot spheroids at positions on the surface manifold\naccording to coordinates or vertex ids.\n\n\n"
      ], 
      "cell_type": "markdown", 
      "metadata": {}
    }, 
    {
      "execution_count": null, 
      "cell_type": "code", 
      "source": [
        "import os\nimport os.path as op\nfrom numpy import arange\nfrom numpy.random import permutation\nimport nibabel as nib\nfrom surfer import Brain\n\nprint(__doc__)\n\nsubject_id = \"fsaverage\"\nsubjects_dir = os.environ[\"SUBJECTS_DIR\"]\n\n\"\"\"\nBring up the visualization.\n\"\"\"\nbrain = Brain(subject_id, \"lh\", \"inflated\")\n\n\"\"\"\nFirst we'll get a set of stereotaxic foci in the MNI\ncoordinate system. These might be peak activations from\na volume based analysis.\n\"\"\"\ncoords = [[-36, 18, -3],\n          [-43, 25, 24],\n          [-48, 26, -2]]\n\n\"\"\"\nNow we plot the foci on the inflated surface. We will map\nthe foci onto the surface by finding the vertex on the \"white\"\nmesh that is closest to the coordinate of each point we want\nto display.\n\nWhile this is not a perfect transformation, it can give you\nsome idea of where peaks from a volume-based analysis would\nbe located on the surface.\n\nYou can use any valid matplotlib color for the foci; the\ndefault is white.\n\"\"\"\nbrain.add_foci(coords, map_surface=\"white\", color=\"gold\")\n\n\"\"\"\nYou can also plot foci with a set of surface vertex ids.\nFor instance, you might want to plot the peak activation\nwithin an ROI for each of your indivdiual subjects over\nthe group activation map.\n\nHere, we will just demonstrate with a set of randomly\nchoosen vertices from within the superior temporal sulcus.\n\nFirst, we load in the Destrieux parcellation annotation file\nand find 10 random vertices within the STS.\n\"\"\"\nannot_path = op.join(subjects_dir, subject_id, \"label/lh.aparc.a2009s.annot\")\nids, ctab, names = nib.freesurfer.read_annot(annot_path)\nverts = arange(0, len(ids))\ncoords = permutation(verts[ids == 74])[:10]\n\n\"\"\"\nYou can also control the size of the focus glpyhs.\nWe'll make these a little bit smaller than our\nother foci.\n\"\"\"\nscale_factor = 0.7\n\n\"\"\"\nFinally, plot the foci using the coords_as_verts option to\ncenter each sphereoid at its vertex id.\n\"\"\"\nbrain.add_foci(coords, coords_as_verts=True,\n               scale_factor=scale_factor, color=\"#A52A2A\")"
      ], 
      "outputs": [], 
      "metadata": {
        "collapsed": false
      }
    }
  ], 
  "metadata": {
    "kernelspec": {
      "display_name": "Python 2", 
      "name": "python2", 
      "language": "python"
    }, 
    "language_info": {
      "mimetype": "text/x-python", 
      "nbconvert_exporter": "python", 
      "name": "python", 
      "file_extension": ".py", 
      "version": "2.7.13", 
      "pygments_lexer": "ipython2", 
      "codemirror_mode": {
        "version": 2, 
        "name": "ipython"
      }
    }
  }
}