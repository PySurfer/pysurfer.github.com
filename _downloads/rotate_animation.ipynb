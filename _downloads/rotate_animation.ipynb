{
  "nbformat_minor": 0, 
  "nbformat": 4, 
  "cells": [
    {
      "execution_count": null, 
      "cell_type": "code", 
      "source": [
        "%matplotlib inline"
      ], 
      "outputs": [], 
      "metadata": {
        "collapsed": false
      }
    }, 
    {
      "source": [
        "\n# Animate brain and save movie\n\n\n\n"
      ], 
      "cell_type": "markdown", 
      "metadata": {}
    }, 
    {
      "execution_count": null, 
      "cell_type": "code", 
      "source": [
        "from surfer import Brain\n\nprint(__doc__)\n\nsub = 'fsaverage'\nhemi = 'lh'\nsurf = 'inflated'\n\nbrain = Brain(sub, hemi, surf)\n\nbrain.animate(['l', 'c'])\n\n# control number of steps\nbrain.animate(['l', 'm'], n_steps=30)\n\n# any path you can think of\nbrain.animate(['l', 'c', 'm', 'r', 'c', 'r', 'l'], n_steps=45)\n\n# full turns\nbrain.animate([\"m\"] * 3)\n\n# movies\nbrain.animate(['l', 'l'], n_steps=10, fname='simple_animation.avi')\n\n# however, rotating out of the axial plane is not allowed\ntry:\n    brain.animate(['l', 'd'])\nexcept ValueError as e:\n    print(e)"
      ], 
      "outputs": [], 
      "metadata": {
        "collapsed": false
      }
    }
  ], 
  "metadata": {
    "kernelspec": {
      "display_name": "Python 2", 
      "name": "python2", 
      "language": "python"
    }, 
    "language_info": {
      "mimetype": "text/x-python", 
      "nbconvert_exporter": "python", 
      "name": "python", 
      "file_extension": ".py", 
      "version": "2.7.13", 
      "pygments_lexer": "ipython2", 
      "codemirror_mode": {
        "version": 2, 
        "name": "ipython"
      }
    }
  }
}