{
  "nbformat_minor": 0, 
  "nbformat": 4, 
  "cells": [
    {
      "execution_count": null, 
      "cell_type": "code", 
      "source": [
        "%matplotlib inline"
      ], 
      "outputs": [], 
      "metadata": {
        "collapsed": false
      }
    }, 
    {
      "source": [
        "\nBasic Visualization\n===================\n\nInitialize a basic visualization session.\n\n\n"
      ], 
      "cell_type": "markdown", 
      "metadata": {}
    }, 
    {
      "execution_count": null, 
      "cell_type": "code", 
      "source": [
        "from surfer import Brain\n\nprint(__doc__)\n\n\"\"\"\nDefine the three important variables.\nNote that these are the first three positional arguments\nin tksurfer (and pysurfer for that matter).\n\"\"\"\nsubject_id = 'fsaverage'\nhemi = 'lh'\nsurf = 'inflated'\n\n\"\"\"\nCall the Brain object constructor with these\nparameters to initialize the visualization session.\n\"\"\"\nbrain = Brain(subject_id, hemi, surf)"
      ], 
      "outputs": [], 
      "metadata": {
        "collapsed": false
      }
    }
  ], 
  "metadata": {
    "kernelspec": {
      "display_name": "Python 2", 
      "name": "python2", 
      "language": "python"
    }, 
    "language_info": {
      "mimetype": "text/x-python", 
      "nbconvert_exporter": "python", 
      "name": "python", 
      "file_extension": ".py", 
      "version": "2.7.13", 
      "pygments_lexer": "ipython2", 
      "codemirror_mode": {
        "version": 2, 
        "name": "ipython"
      }
    }
  }
}