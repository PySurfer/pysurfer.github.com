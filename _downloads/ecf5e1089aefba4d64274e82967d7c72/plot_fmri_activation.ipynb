{
  "cells": [
    {
      "cell_type": "code",
      "execution_count": null,
      "metadata": {
        "collapsed": false
      },
      "outputs": [],
      "source": [
        "%matplotlib inline"
      ]
    },
    {
      "cell_type": "markdown",
      "metadata": {},
      "source": [
        "\n# Display fMRI Activation\n\n\nThe most straightforward way to plot activations is when you already have\na map of them defined on the Freesurfer surface. This map can be stored in any\nfile format that Nibabel can understand.\n\n\n"
      ]
    },
    {
      "cell_type": "code",
      "execution_count": null,
      "metadata": {
        "collapsed": false
      },
      "outputs": [],
      "source": [
        "from surfer import Brain\n\nprint(__doc__)\n\n\"\"\"\nBring up the visualization window.\n\"\"\"\nbrain = Brain(\"fsaverage\", \"lh\", \"inflated\")\n\n\"\"\"\nGet a path to the overlay file.\n\"\"\"\noverlay_file = \"example_data/lh.sig.nii.gz\"\n\n\"\"\"\nDisplay the overlay on the surface using the defaults to control thresholding\nand colorbar saturation.  These can be set through your config file.\n\"\"\"\nbrain.add_overlay(overlay_file)\n\n\"\"\"\nYou can then turn the overlay off.\n\"\"\"\nbrain.overlays[\"sig\"].remove()\n\n\"\"\"\nNow add the overlay again, but this time with set threshold and showing only\nthe positive activations.\n\"\"\"\nbrain.add_overlay(overlay_file, min=5, max=20, sign=\"pos\")"
      ]
    }
  ],
  "metadata": {
    "kernelspec": {
      "display_name": "Python 3",
      "language": "python",
      "name": "python3"
    },
    "language_info": {
      "codemirror_mode": {
        "name": "ipython",
        "version": 3
      },
      "file_extension": ".py",
      "mimetype": "text/x-python",
      "name": "python",
      "nbconvert_exporter": "python",
      "pygments_lexer": "ipython3",
      "version": "3.6.5"
    }
  },
  "nbformat": 4,
  "nbformat_minor": 0
}