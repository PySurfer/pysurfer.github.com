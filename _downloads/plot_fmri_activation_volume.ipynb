{
  "nbformat_minor": 0, 
  "nbformat": 4, 
  "cells": [
    {
      "execution_count": null, 
      "cell_type": "code", 
      "source": [
        "%matplotlib inline"
      ], 
      "outputs": [], 
      "metadata": {
        "collapsed": false
      }
    }, 
    {
      "source": [
        "\n# Display an fMRI Volume\n\n\nTo plot data on the surface that is stored as a volume image, it is only\nslightly more complicated. You'll have to use the function\n``surfer.project_volume_data``, which makes an external call to the Freesurfer\nprogram ``mri_vol2surf``.\n\nNote: In PySurfer versions 0.4 and lower, the project_volume_data function must\nbe imported from ``surfer.io``.\n\n\n"
      ], 
      "cell_type": "markdown", 
      "metadata": {}
    }, 
    {
      "execution_count": null, 
      "cell_type": "code", 
      "source": [
        "import os\nfrom surfer import Brain, project_volume_data\n\nprint(__doc__)\n\n\"\"\"\nBring up the visualization window.\n\"\"\"\nbrain = Brain(\"fsaverage\", \"lh\", \"inflated\")\n\n\"\"\"\nGet a path to the volume file.\n\"\"\"\nvolume_file = \"example_data/zstat.nii.gz\"\n\n\"\"\"\nThere are two options for specifying the registration between the volume and\nthe surface you want to plot on. The first is to give a path to a\nFreesurfer-style linear transformation matrix that will align the statistical\nvolume with the Freesurfer anatomy.\n\nMost of the time you will be plotting data that are in MNI152 space on the\nfsaverage brain. For this case, Freesurfer actually ships a registration matrix\nfile to align your data with the surface.\n\"\"\"\nreg_file = os.path.join(os.environ[\"FREESURFER_HOME\"],\n                        \"average/mni152.register.dat\")\nzstat = project_volume_data(volume_file, \"lh\", reg_file)\n\n\"\"\"\nNote that the contours of the fsaverage surface don't perfectly match the\nMNI brain, so this will only approximate the location of your activation\n(although it generally does a pretty good job). A more accurate way to\nvisualize data would be to run the MNI152 brain through the recon-all pipeline.\n\nAlternatively, if your data are already in register with the Freesurfer\nanatomy, you can provide project_volume_data with the subject ID, avoiding the\nneed to specify a registration file.\n\nBy default, 3mm of smoothing is applied on the surface to clean up the overlay\na bit, although the extent of smoothing can be controlled.\n\"\"\"\nzstat = project_volume_data(volume_file, \"lh\",\n                            subject_id=\"fsaverage\", smooth_fwhm=0.5)\n\n\"\"\"\nOnce you have the statistical data loaded into Python, you can simply pass it\nto the `add_overlay` method of the Brain object.\n\"\"\"\nbrain.add_overlay(zstat, min=2, max=12)\n\n\"\"\"\nIt can also be a good idea to plot the inverse of the mask that was used in the\nanalysis, so you can be clear about areas that were not included.\n\nIt's good to change some parameters of the sampling to account for the fact\nthat you are projecting binary (0, 1) data.\n\"\"\"\nmask_file = \"example_data/mask.nii.gz\"\nmask = project_volume_data(mask_file, \"lh\", subject_id=\"fsaverage\",\n                           smooth_fwhm=0, projsum=\"max\").astype(bool)\nmask = ~mask\nbrain.add_data(mask, min=0, max=10, thresh=.5,\n               colormap=\"bone\", alpha=.6, colorbar=False)\n\nbrain.show_view(\"medial\")"
      ], 
      "outputs": [], 
      "metadata": {
        "collapsed": false
      }
    }
  ], 
  "metadata": {
    "kernelspec": {
      "display_name": "Python 2", 
      "name": "python2", 
      "language": "python"
    }, 
    "language_info": {
      "mimetype": "text/x-python", 
      "nbconvert_exporter": "python", 
      "name": "python", 
      "file_extension": ".py", 
      "version": "2.7.13", 
      "pygments_lexer": "ipython2", 
      "codemirror_mode": {
        "version": 2, 
        "name": "ipython"
      }
    }
  }
}