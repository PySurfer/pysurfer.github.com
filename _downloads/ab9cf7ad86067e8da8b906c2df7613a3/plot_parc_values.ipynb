{
  "cells": [
    {
      "cell_type": "code",
      "execution_count": null,
      "metadata": {
        "collapsed": false
      },
      "outputs": [],
      "source": [
        "%matplotlib inline"
      ]
    },
    {
      "cell_type": "markdown",
      "metadata": {},
      "source": [
        "\n# Display ROI Values\n\n\nHere we demonstrate how to take the results of an ROI analysis performed within\neach region of some parcellation and display those values on the surface to\nquickly summarize the analysis.\n"
      ]
    },
    {
      "cell_type": "code",
      "execution_count": null,
      "metadata": {
        "collapsed": false
      },
      "outputs": [],
      "source": [
        "import os\nimport numpy as np\nimport nibabel as nib\nfrom surfer import Brain\n\nprint(__doc__)\n\nsubject_id = \"fsaverage\"\nhemi = \"lh\"\nsurf = \"inflated\"\n\n\"\"\"\nBring up the visualization.\n\"\"\"\nbrain = Brain(subject_id, hemi, surf, background=\"white\")\n\n\"\"\"\nRead in the automatic parcellation of sulci and gyri.\n\"\"\"\naparc_file = os.path.join(os.environ[\"SUBJECTS_DIR\"],\n                          subject_id, \"label\",\n                          hemi + \".aparc.a2009s.annot\")\nlabels, ctab, names = nib.freesurfer.read_annot(aparc_file)\n\n\"\"\"\nMake a random vector of scalar data corresponding to a value for each region in\nthe parcellation.\n\n\"\"\"\nrs = np.random.RandomState(4)\nroi_data = rs.uniform(.5, .8, size=len(names))\n\n\"\"\"\nMake a vector containing the data point at each vertex.\n\"\"\"\nvtx_data = roi_data[labels]\n\n\"\"\"\nHandle vertices that are not defined in the annotation.\n\"\"\"\nvtx_data[labels == -1] = -1\n\n\"\"\"\nDisplay these values on the brain. Use a sequential colormap (assuming\nthese data move from low to high values), and add an alpha channel so the\nunderlying anatomy is visible.\n\"\"\"\nbrain.add_data(vtx_data, .5, .75, thresh=0, colormap=\"rocket\", alpha=.8)"
      ]
    }
  ],
  "metadata": {
    "kernelspec": {
      "display_name": "Python 3",
      "language": "python",
      "name": "python3"
    },
    "language_info": {
      "codemirror_mode": {
        "name": "ipython",
        "version": 3
      },
      "file_extension": ".py",
      "mimetype": "text/x-python",
      "name": "python",
      "nbconvert_exporter": "python",
      "pygments_lexer": "ipython3",
      "version": "3.8.0"
    }
  },
  "nbformat": 4,
  "nbformat_minor": 0
}