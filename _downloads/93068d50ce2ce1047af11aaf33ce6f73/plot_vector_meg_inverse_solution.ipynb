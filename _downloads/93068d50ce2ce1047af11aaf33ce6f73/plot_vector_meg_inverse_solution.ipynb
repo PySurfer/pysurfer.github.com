{
  "cells": [
    {
      "cell_type": "code",
      "execution_count": null,
      "metadata": {
        "collapsed": false
      },
      "outputs": [],
      "source": [
        "%matplotlib inline"
      ]
    },
    {
      "cell_type": "markdown",
      "metadata": {},
      "source": [
        "\nPlot vector-valued MEG inverse solution\n=======================================\n\nData were computed using mne-python (http://martinos.org/mne).\n"
      ]
    },
    {
      "cell_type": "code",
      "execution_count": null,
      "metadata": {
        "collapsed": false
      },
      "outputs": [],
      "source": [
        "import os\nimport numpy as np\n\nfrom surfer import Brain, TimeViewer  # noqa, analysis:ignore\nfrom surfer.io import read_stc\n\nprint(__doc__)\n\n# Do some basic things: define subject, surface and hemisphere(s) to plot,\n# and create the :class:`surfer.viz.Brain` object.\n\nsubject_id, surf = 'fsaverage', 'white'\nhemi = 'lh'\nbrain = Brain(subject_id, hemi, surf, size=(800, 800), interaction='terrain',\n              cortex='0.5', alpha=0.5, show_toolbar=True, units='m')\n\n# Read the MNE dSPM inverse solution\n\nhemi = 'lh'\nstc_fname = os.path.join('example_data', 'meg_source_estimate-' +\n                         hemi + '.stc')\nstc = read_stc(stc_fname)\n\n# data and vertices for which the data is defined\ndata = stc['data']\nvertices = stc['vertices']\ntime = np.linspace(stc['tmin'], stc['tmin'] + data.shape[1] * stc['tstep'],\n                   data.shape[1], endpoint=False)\n\n# MNE will soon add the option for a \"full\" inverse to be computed and stored.\n# In the meantime, we can get the equivalent for our data based on the\n# surface normals:\n\ndata_full = brain.geo['lh'].nn[vertices][..., np.newaxis] * data[:, np.newaxis]\n\n# Now we add the data and set the initial time displayed to 100 ms:\nbrain.add_data(data_full, colormap='hot', vertices=vertices, alpha=0.5,\n               smoothing_steps=5, time=time, hemi=hemi, initial_time=0.1,\n               vector_alpha=0.5, verbose=False)\n\n# scale colormap\nbrain.scale_data_colormap(fmin=7, fmid=14, fmax=21, transparent=True,\n                          verbose=False)\n\n# viewer = TimeViewer(brain)"
      ]
    }
  ],
  "metadata": {
    "kernelspec": {
      "display_name": "Python 3",
      "language": "python",
      "name": "python3"
    },
    "language_info": {
      "codemirror_mode": {
        "name": "ipython",
        "version": 3
      },
      "file_extension": ".py",
      "mimetype": "text/x-python",
      "name": "python",
      "nbconvert_exporter": "python",
      "pygments_lexer": "ipython3",
      "version": "3.8.0"
    }
  },
  "nbformat": 4,
  "nbformat_minor": 0
}