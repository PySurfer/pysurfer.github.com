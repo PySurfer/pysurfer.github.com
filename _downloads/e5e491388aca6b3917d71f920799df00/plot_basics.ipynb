{
  "cells": [
    {
      "cell_type": "code",
      "execution_count": null,
      "metadata": {
        "collapsed": false
      },
      "outputs": [],
      "source": [
        "%matplotlib inline"
      ]
    },
    {
      "cell_type": "markdown",
      "metadata": {},
      "source": [
        "\nBasic Visualization\n===================\n\nInitialize a basic visualization session.\n\n\n"
      ]
    },
    {
      "cell_type": "code",
      "execution_count": null,
      "metadata": {
        "collapsed": false
      },
      "outputs": [],
      "source": [
        "from surfer import Brain\n\nprint(__doc__)\n\n\"\"\"\nDefine the three important variables.\nNote that these are the first three positional arguments\nin tksurfer (and pysurfer for that matter).\n\"\"\"\nsubject_id = 'fsaverage'\nhemi = 'lh'\nsurf = 'inflated'\n\n\"\"\"\nCall the Brain object constructor with these\nparameters to initialize the visualization session.\n\"\"\"\nbrain = Brain(subject_id, hemi, surf)"
      ]
    }
  ],
  "metadata": {
    "kernelspec": {
      "display_name": "Python 3",
      "language": "python",
      "name": "python3"
    },
    "language_info": {
      "codemirror_mode": {
        "name": "ipython",
        "version": 3
      },
      "file_extension": ".py",
      "mimetype": "text/x-python",
      "name": "python",
      "nbconvert_exporter": "python",
      "pygments_lexer": "ipython3",
      "version": "3.6.5"
    }
  },
  "nbformat": 4,
  "nbformat_minor": 0
}