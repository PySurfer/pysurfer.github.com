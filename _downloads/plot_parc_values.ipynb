{
  "nbformat_minor": 0, 
  "nbformat": 4, 
  "cells": [
    {
      "execution_count": null, 
      "cell_type": "code", 
      "source": [
        "%matplotlib inline"
      ], 
      "outputs": [], 
      "metadata": {
        "collapsed": false
      }
    }, 
    {
      "source": [
        "\n# Display ROI Values\n\n\nHere we demonstrate how to take the results of an ROI analysis performed within\neach region of some parcellation and display those values on the surface to\nquickly summarize the analysis.\n\n\n"
      ], 
      "cell_type": "markdown", 
      "metadata": {}
    }, 
    {
      "execution_count": null, 
      "cell_type": "code", 
      "source": [
        "import os\nimport numpy as np\nimport nibabel as nib\nfrom surfer import Brain\n\nprint(__doc__)\n\nsubject_id = \"fsaverage\"\nhemi = \"lh\"\nsurf = \"inflated\"\n\n\"\"\"\nBring up the visualization.\n\"\"\"\nbrain = Brain(subject_id, hemi, surf, background=\"white\")\n\n\"\"\"\nRead in the automatic parcellation of sulci and gyri.\n\"\"\"\naparc_file = os.path.join(os.environ[\"SUBJECTS_DIR\"],\n                          subject_id, \"label\",\n                          hemi + \".aparc.a2009s.annot\")\nlabels, ctab, names = nib.freesurfer.read_annot(aparc_file)\n\n\"\"\"\nMake a random vector of scalar data corresponding to a value for each region in\nthe parcellation.\n\n\"\"\"\nrs = np.random.RandomState(4)\nroi_data = rs.uniform(.5, .8, size=len(names))\n\n\"\"\"\nMake a vector containing the data point at each vertex.\n\"\"\"\nvtx_data = roi_data[labels]\n\n\"\"\"\nHandle vertices that are not defined in the annotation.\n\"\"\"\nvtx_data[labels == -1] = -1\n\n\"\"\"\nDisplay these values on the brain. Use a sequential colormap (assuming\nthese data move from low to high values), and add an alpha channel so the\nunderlying anatomy is visible.\n\"\"\"\nbrain.add_data(vtx_data, .5, .75, thresh=0, colormap=\"rocket\", alpha=.8)"
      ], 
      "outputs": [], 
      "metadata": {
        "collapsed": false
      }
    }
  ], 
  "metadata": {
    "kernelspec": {
      "display_name": "Python 2", 
      "name": "python2", 
      "language": "python"
    }, 
    "language_info": {
      "mimetype": "text/x-python", 
      "nbconvert_exporter": "python", 
      "name": "python", 
      "file_extension": ".py", 
      "version": "2.7.13", 
      "pygments_lexer": "ipython2", 
      "codemirror_mode": {
        "version": 2, 
        "name": "ipython"
      }
    }
  }
}