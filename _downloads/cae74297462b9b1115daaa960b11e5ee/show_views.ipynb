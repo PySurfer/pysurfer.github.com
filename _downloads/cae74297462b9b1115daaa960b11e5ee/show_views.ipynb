{
  "cells": [
    {
      "cell_type": "code",
      "execution_count": null,
      "metadata": {
        "collapsed": false
      },
      "outputs": [],
      "source": [
        "%matplotlib inline"
      ]
    },
    {
      "cell_type": "markdown",
      "metadata": {},
      "source": [
        "\n# Show the different brain views\n\n\nAmong the views available are lateral, rostral, caudal, frontal etc.\n\n\n"
      ]
    },
    {
      "cell_type": "code",
      "execution_count": null,
      "metadata": {
        "collapsed": false
      },
      "outputs": [],
      "source": [
        "from surfer import Brain\n\nprint(__doc__)\n\nsub = 'fsaverage'\nhemi = 'both'\nsurf = 'inflated'\n\nbrain = Brain(sub, hemi, surf)"
      ]
    },
    {
      "cell_type": "markdown",
      "metadata": {},
      "source": [
        "show all views\n\n"
      ]
    },
    {
      "cell_type": "code",
      "execution_count": null,
      "metadata": {
        "collapsed": false
      },
      "outputs": [],
      "source": [
        "brain.show_view('lateral')\nbrain.show_view('m')\nbrain.show_view('rostral')\nbrain.show_view('caudal')\nbrain.show_view('ve')\nbrain.show_view('frontal')\nbrain.show_view('par')\nbrain.show_view('dor')"
      ]
    },
    {
      "cell_type": "markdown",
      "metadata": {},
      "source": [
        "More advanced parameters\n\n"
      ]
    },
    {
      "cell_type": "code",
      "execution_count": null,
      "metadata": {
        "collapsed": false
      },
      "outputs": [],
      "source": [
        "brain.show_view({'distance': 432})\n# with great power comes great responsibility\nbrain.show_view({'azimuth': 135, 'elevation': 79}, roll=107)"
      ]
    }
  ],
  "metadata": {
    "kernelspec": {
      "display_name": "Python 3",
      "language": "python",
      "name": "python3"
    },
    "language_info": {
      "codemirror_mode": {
        "name": "ipython",
        "version": 3
      },
      "file_extension": ".py",
      "mimetype": "text/x-python",
      "name": "python",
      "nbconvert_exporter": "python",
      "pygments_lexer": "ipython3",
      "version": "3.6.5"
    }
  },
  "nbformat": 4,
  "nbformat_minor": 0
}