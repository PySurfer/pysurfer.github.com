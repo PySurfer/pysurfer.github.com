{
  "nbformat_minor": 0, 
  "nbformat": 4, 
  "cells": [
    {
      "execution_count": null, 
      "cell_type": "code", 
      "source": [
        "%matplotlib inline"
      ], 
      "outputs": [], 
      "metadata": {
        "collapsed": false
      }
    }, 
    {
      "source": [
        "\nPlot MEG inverse solution\n=========================\n\nData were computed using mne-python (http://martinos.org/mne)\n\n\n"
      ], 
      "cell_type": "markdown", 
      "metadata": {}
    }, 
    {
      "execution_count": null, 
      "cell_type": "code", 
      "source": [
        "import os\nimport numpy as np\n\nfrom surfer import Brain\nfrom surfer.io import read_stc\n\nprint(__doc__)\n\n\"\"\"\ndefine subject, surface and hemisphere(s) to plot\n\"\"\"\nsubject_id, surf = 'fsaverage', 'inflated'\nhemi = 'lh'\n\n\"\"\"\ncreate Brain object for visualization\n\"\"\"\nbrain = Brain(subject_id, hemi, surf, size=(400, 400),\n              interaction='terrain')\n\n\"\"\"\nlabel for time annotation in milliseconds\n\"\"\"\n\n\ndef time_label(t):\n    return 'time=%0.2f ms' % (t * 1e3)\n\n\n\"\"\"\nread MNE dSPM inverse solution\n\"\"\"\nfor hemi in ['lh']:  # , 'rh']:\n    stc_fname = os.path.join('example_data', 'meg_source_estimate-' +\n                             hemi + '.stc')\n    stc = read_stc(stc_fname)\n\n    \"\"\"\n    data and vertices for which the data is defined\n    \"\"\"\n    data = stc['data']\n    vertices = stc['vertices']\n\n    \"\"\"\n    time points (in seconds)\n    \"\"\"\n    time = np.linspace(stc['tmin'], stc['tmin'] + data.shape[1] * stc['tstep'],\n                       data.shape[1], endpoint=False)\n\n    \"\"\"\n    colormap to use\n    \"\"\"\n    colormap = 'hot'\n\n    \"\"\"\n    add data and set the initial time displayed to 100 ms\n    \"\"\"\n    brain.add_data(data, colormap=colormap, vertices=vertices,\n                   smoothing_steps=5, time=time, time_label=time_label,\n                   hemi=hemi, initial_time=0.1)\n\n\"\"\"\nscale colormap\n\"\"\"\nbrain.scale_data_colormap(fmin=13, fmid=18, fmax=22, transparent=True)\n\n\"\"\"\nTo change the time displayed to 80 ms uncomment this line\n\"\"\"\n# brain.set_time(0.08)\n\n\"\"\"\nuncomment these lines to use the interactive TimeViewer GUI\n\"\"\"\n# from surfer import TimeViewer\n# viewer = TimeViewer(brain)"
      ], 
      "outputs": [], 
      "metadata": {
        "collapsed": false
      }
    }
  ], 
  "metadata": {
    "kernelspec": {
      "display_name": "Python 2", 
      "name": "python2", 
      "language": "python"
    }, 
    "language_info": {
      "mimetype": "text/x-python", 
      "nbconvert_exporter": "python", 
      "name": "python", 
      "file_extension": ".py", 
      "version": "2.7.13", 
      "pygments_lexer": "ipython2", 
      "codemirror_mode": {
        "version": 2, 
        "name": "ipython"
      }
    }
  }
}