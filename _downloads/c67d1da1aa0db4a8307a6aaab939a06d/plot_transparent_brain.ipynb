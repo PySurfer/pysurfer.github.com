{
  "cells": [
    {
      "cell_type": "code",
      "execution_count": null,
      "metadata": {
        "collapsed": false
      },
      "outputs": [],
      "source": [
        "%matplotlib inline"
      ]
    },
    {
      "cell_type": "markdown",
      "metadata": {},
      "source": [
        "\n# Plot Transparent Brain\n\n\nPlot a transparent brain to visualize foci below the surface.\n"
      ]
    },
    {
      "cell_type": "code",
      "execution_count": null,
      "metadata": {
        "collapsed": false
      },
      "outputs": [],
      "source": [
        "import os\nfrom surfer import Brain\n\nprint(__doc__)\n\nsubject_id = \"fsaverage\"\nsubjects_dir = os.environ[\"SUBJECTS_DIR\"]\n\n\"\"\"To render a transparent brain, we are specifying an alpha <\n1.0. This allows us to visualize foci that are not on the cortical\nsurface. When the brain see-through, rendering of binary curvature is\ndistracting, so we specify a color, rather than a color map as the\nargument for cortex:\n\n\"\"\"\nbrain = Brain(subject_id, \"lh\", \"pial\", cortex='ivory', alpha=0.5)\n\n\"\"\"Here's a set of stereotaxic foci in the MNI coordinate system that\nare not on the cortical surface which we want to display.\n\n\"\"\"\n\ncoords = [[-20, 10, 10],\n          [-25, 22, 15],\n          [-18, 8, 20]]\n\n\"\"\"Now we plot the foci in the brain. Because the foci are not on the\ncortical surface, they are only visible when alpha is set to < 1.0 in\nthe call to Brain.\n\n\"\"\"\nbrain.add_foci(coords, color=\"red\")"
      ]
    }
  ],
  "metadata": {
    "kernelspec": {
      "display_name": "Python 3",
      "language": "python",
      "name": "python3"
    },
    "language_info": {
      "codemirror_mode": {
        "name": "ipython",
        "version": 3
      },
      "file_extension": ".py",
      "mimetype": "text/x-python",
      "name": "python",
      "nbconvert_exporter": "python",
      "pygments_lexer": "ipython3",
      "version": "3.8.0"
    }
  },
  "nbformat": 4,
  "nbformat_minor": 0
}