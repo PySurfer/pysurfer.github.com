{
  "cells": [
    {
      "cell_type": "code",
      "execution_count": null,
      "metadata": {
        "collapsed": false
      },
      "outputs": [],
      "source": [
        "%matplotlib inline"
      ]
    },
    {
      "cell_type": "markdown",
      "metadata": {},
      "source": [
        "\nDisplay Resting-State Correlations\n==================================\n\nIn this example, we show how to build up a complex visualization of a\nvolume-based image showing resting-state correlations across the whole brain\nfrom a seed in the angular gyrus. We'll plot several views of both hemispheres\nin a single window and manipulate the colormap to best represent the nature of\nthe data.\n"
      ]
    },
    {
      "cell_type": "code",
      "execution_count": null,
      "metadata": {
        "collapsed": false
      },
      "outputs": [],
      "source": [
        "import os\nfrom surfer import Brain, project_volume_data\n\nprint(__doc__)\n\n\"\"\"Bring up the visualization\"\"\"\nbrain = Brain(\"fsaverage\", \"split\", \"inflated\",\n              views=['lat', 'med'], background=\"white\")\n\n\"\"\"Project the volume file and return as an array\"\"\"\nmri_file = \"example_data/resting_corr.nii.gz\"\nreg_file = os.path.join(os.environ[\"FREESURFER_HOME\"],\n                        \"average/mni152.register.dat\")\nsurf_data_lh = project_volume_data(mri_file, \"lh\", reg_file)\nsurf_data_rh = project_volume_data(mri_file, \"rh\", reg_file)\n\n\"\"\"\nYou can pass this array to the add_overlay method for a typical activation\noverlay (with thresholding, etc.).\n\"\"\"\nbrain.add_overlay(surf_data_lh, min=.3, max=.7, name=\"ang_corr_lh\", hemi='lh')\nbrain.add_overlay(surf_data_rh, min=.3, max=.7, name=\"ang_corr_rh\", hemi='rh')\n\n\"\"\"\nYou can also pass it to add_data for more control\nover the visualization. Here we'll plot the whole\nrange of correlations\n\"\"\"\nfor overlay in brain.overlays_dict[\"ang_corr_lh\"]:\n    overlay.remove()\nfor overlay in brain.overlays_dict[\"ang_corr_rh\"]:\n    overlay.remove()\n\n\"\"\"\nWe want to use an appropriate color map for these data: a divergent map that\nis centered on 0, which is a meaningful transition-point as it marks the change\nfrom negative correlations to positive correlations. By providing the 'center'\nargument the add_data function automatically chooses a divergent colormap.\n\"\"\"\nbrain.add_data(surf_data_lh, 0, .7, center=0, hemi='lh')\nbrain.add_data(surf_data_rh, 0, .7, center=0, hemi='rh')\n\n\"\"\"\nYou can tune the data display by shifting the colormap around interesting\nregions. For example, you can ignore small correlation up to a magnitude of 0.2\nand let colors become gradually less transparent from 0.2 to 0.5 by re-scaling\nthe colormap as follows. For more information see the help string of this\nfunction.\n\"\"\"\nbrain.scale_data_colormap(.2, .5, .7, transparent=True, center=0)\n\n\"\"\"\nYou can also set the overall opacity of the displayed data while maintaining\nthe transparency of the small values.\n\"\"\"\nbrain.scale_data_colormap(0, .35, .7, transparent=True, center=0,\n                          alpha=0.75)\n\n\"\"\"\nThis overlay represents resting-state correlations with a\nseed in left angular gyrus. Let's plot that seed.\n\"\"\"\nseed_coords = (-45, -67, 36)\nbrain.add_foci(seed_coords, map_surface=\"white\", hemi='lh')"
      ]
    }
  ],
  "metadata": {
    "kernelspec": {
      "display_name": "Python 3",
      "language": "python",
      "name": "python3"
    },
    "language_info": {
      "codemirror_mode": {
        "name": "ipython",
        "version": 3
      },
      "file_extension": ".py",
      "mimetype": "text/x-python",
      "name": "python",
      "nbconvert_exporter": "python",
      "pygments_lexer": "ipython3",
      "version": "3.8.0"
    }
  },
  "nbformat": 4,
  "nbformat_minor": 0
}