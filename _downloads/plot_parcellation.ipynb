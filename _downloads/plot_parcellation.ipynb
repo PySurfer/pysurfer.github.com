{
  "nbformat_minor": 0, 
  "nbformat": 4, 
  "cells": [
    {
      "execution_count": null, 
      "cell_type": "code", 
      "source": [
        "%matplotlib inline"
      ], 
      "outputs": [], 
      "metadata": {
        "collapsed": false
      }
    }, 
    {
      "source": [
        "\nUsing Annotation Files\n======================\n\nDisplay a Freesurfer cortical parcellation from an annotation file.\n\n\n"
      ], 
      "cell_type": "markdown", 
      "metadata": {}
    }, 
    {
      "execution_count": null, 
      "cell_type": "code", 
      "source": [
        "import os\nfrom os.path import join as pjoin\nfrom surfer import Brain\n\nprint(__doc__)\n\nsubject_id = 'fsaverage'\nhemi = 'both'\nsurf = 'inflated'\nview = 'frontal'\n\n\"\"\"\nBring up the visualization\n\"\"\"\nbrain = Brain(subject_id, hemi, surf, views=view,\n              cortex=\"bone\", background=\"ivory\")\n\n\"\"\"\nDisplay the 'aparc' parcellation borders.\nTo use annotations that live in your subject's\nlabel directory, just use the annot name.\n\"\"\"\nbrain.add_annotation(\"aparc\")\n\n\"\"\"\nYou can also display the regions with \"filled in\" colors\n\"\"\"\nbrain.add_annotation(\"aparc\", borders=False)\n\n\"\"\"\nYou may also provide a full path to an annotation file\nat an arbitray location on the disc. You can also\nplot things separately for the left and right hemispheres.\n\"\"\"\nsubjects_dir = os.environ[\"SUBJECTS_DIR\"]\nannot_path = pjoin(subjects_dir, subject_id, \"label\", \"lh.aparc.annot\")\nbrain.add_annotation(annot_path, hemi='lh', borders=False, alpha=.75)\nannot_path = pjoin(subjects_dir, subject_id, \"label\", \"rh.aparc.a2009s.annot\")\nbrain.add_annotation(annot_path, hemi='rh', borders=2, remove_existing=False)"
      ], 
      "outputs": [], 
      "metadata": {
        "collapsed": false
      }
    }
  ], 
  "metadata": {
    "kernelspec": {
      "display_name": "Python 2", 
      "name": "python2", 
      "language": "python"
    }, 
    "language_info": {
      "mimetype": "text/x-python", 
      "nbconvert_exporter": "python", 
      "name": "python", 
      "file_extension": ".py", 
      "version": "2.7.13", 
      "pygments_lexer": "ipython2", 
      "codemirror_mode": {
        "version": 2, 
        "name": "ipython"
      }
    }
  }
}