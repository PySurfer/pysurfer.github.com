{
  "cells": [
    {
      "cell_type": "code",
      "execution_count": null,
      "metadata": {
        "collapsed": false
      },
      "outputs": [],
      "source": [
        "%matplotlib inline"
      ]
    },
    {
      "cell_type": "markdown",
      "metadata": {},
      "source": [
        "\nUsing Annotation Files\n======================\n\nDisplay a Freesurfer cortical parcellation from an annotation file.\n"
      ]
    },
    {
      "cell_type": "code",
      "execution_count": null,
      "metadata": {
        "collapsed": false
      },
      "outputs": [],
      "source": [
        "import os\nfrom os.path import join as pjoin\nfrom surfer import Brain\n\nprint(__doc__)\n\nsubject_id = 'fsaverage'\nhemi = 'both'\nsurf = 'inflated'\nview = 'frontal'\n\n\"\"\"\nBring up the visualization\n\"\"\"\nbrain = Brain(subject_id, hemi, surf, views=view,\n              cortex=\"bone\", background=\"ivory\")\n\n\"\"\"\nDisplay the 'aparc' parcellation borders.\nTo use annotations that live in your subject's\nlabel directory, just use the annot name.\n\"\"\"\nbrain.add_annotation(\"aparc\")\n\n\"\"\"\nYou can also display the regions with \"filled in\" colors\n\"\"\"\nbrain.add_annotation(\"aparc\", borders=False)\n\n\"\"\"\nYou may also provide a full path to an annotation file\nat an arbitray location on the disc. You can also\nplot things separately for the left and right hemispheres.\n\"\"\"\nsubjects_dir = os.environ[\"SUBJECTS_DIR\"]\nannot_path = pjoin(subjects_dir, subject_id, \"label\", \"lh.aparc.annot\")\nbrain.add_annotation(annot_path, hemi='lh', borders=False, alpha=.75)\nannot_path = pjoin(subjects_dir, subject_id, \"label\", \"rh.aparc.a2009s.annot\")\nbrain.add_annotation(annot_path, hemi='rh', borders=2, remove_existing=False)"
      ]
    }
  ],
  "metadata": {
    "kernelspec": {
      "display_name": "Python 3",
      "language": "python",
      "name": "python3"
    },
    "language_info": {
      "codemirror_mode": {
        "name": "ipython",
        "version": 3
      },
      "file_extension": ".py",
      "mimetype": "text/x-python",
      "name": "python",
      "nbconvert_exporter": "python",
      "pygments_lexer": "ipython3",
      "version": "3.8.0"
    }
  },
  "nbformat": 4,
  "nbformat_minor": 0
}