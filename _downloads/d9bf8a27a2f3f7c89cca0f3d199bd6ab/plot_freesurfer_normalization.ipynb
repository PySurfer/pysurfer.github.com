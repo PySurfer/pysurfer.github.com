{
  "cells": [
    {
      "cell_type": "code",
      "execution_count": null,
      "metadata": {
        "collapsed": false
      },
      "outputs": [],
      "source": [
        "%matplotlib inline"
      ]
    },
    {
      "cell_type": "markdown",
      "metadata": {},
      "source": [
        "\nPlot Freesurfer Normalization\n=============================\n\nThis example shows how PySurfer can be used to examine the quality of\nFreesurfer's curvature-driven normalization to a common template.\n\nWe are going to plot the contour of the subject's curvature estimate after\ntransforming that map into the common space (this step is performed outside\nof PySurfer using the Freesurfer program ``mri_surf2surf``).\n\nWith a perfect transformation, the contour lines should follow the light/dark\ngray boundary on the fsaverage surface. Large deviations may reflect problems\nwith the underlying data that you should investigate.\n\n\n"
      ]
    },
    {
      "cell_type": "code",
      "execution_count": null,
      "metadata": {
        "collapsed": false
      },
      "outputs": [],
      "source": [
        "import nibabel as nib\nfrom surfer import Brain\n\nprint(__doc__)\n\nbrain = Brain(\"fsaverage\", \"both\", \"inflated\")\n\nfor hemi in [\"lh\", \"rh\"]:\n\n    # This file was created with mri_surf2surf\n    curv = nib.load(\"example_data/%s.curv.fsaverage.mgz\" % hemi)\n\n    # Binarize the curvature at 0\n    curv_bin = (curv.get_data() > 0).squeeze()\n\n    # Add the data as a contour overlay, but turn off the colorbar\n    brain.add_contour_overlay(curv_bin, min=0, max=1.5, n_contours=2,\n                              line_width=3, hemi=hemi)\n    brain.contour_list[-1][\"colorbar\"].visible = False\n\nbrain.show_view(\"dorsal\")"
      ]
    }
  ],
  "metadata": {
    "kernelspec": {
      "display_name": "Python 3",
      "language": "python",
      "name": "python3"
    },
    "language_info": {
      "codemirror_mode": {
        "name": "ipython",
        "version": 3
      },
      "file_extension": ".py",
      "mimetype": "text/x-python",
      "name": "python",
      "nbconvert_exporter": "python",
      "pygments_lexer": "ipython3",
      "version": "3.6.5"
    }
  },
  "nbformat": 4,
  "nbformat_minor": 0
}