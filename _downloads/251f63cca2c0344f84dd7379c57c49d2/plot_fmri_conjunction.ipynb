{
  "cells": [
    {
      "cell_type": "code",
      "execution_count": null,
      "metadata": {
        "collapsed": false
      },
      "outputs": [],
      "source": [
        "%matplotlib inline"
      ]
    },
    {
      "cell_type": "markdown",
      "metadata": {},
      "source": [
        "\nDisplay a Conjunction Map\n=========================\n\nShow the overlap between two different activation maps.\n\nThis is one of the most commonly asked questions about\nTksurfer on the Freesurfer mailing list. Below, we show\nhow it can be accomplished in just a few lines of code\nwith PySurfer.\n"
      ]
    },
    {
      "cell_type": "code",
      "execution_count": null,
      "metadata": {
        "collapsed": false
      },
      "outputs": [],
      "source": [
        "import os.path as op\nimport numpy as np\nfrom surfer import io\nfrom surfer import Brain\n\nprint(__doc__)\n\n\"\"\"\nInitialize the visualization.\n\"\"\"\nbrain = Brain(\"fsaverage\", \"lh\", \"inflated\", background=\"white\")\n\n\"\"\"\nRead both of the activation maps in using\nsurfer's io functions.\n\"\"\"\nsig1 = io.read_scalar_data(op.join('example_data', \"lh.sig.nii.gz\"))\nsig2 = io.read_scalar_data(op.join('example_data', \"lh.alt_sig.nii.gz\"))\n\n\"\"\"\nZero out the vertices that do not meet a threshold.\n\"\"\"\nthresh = 4\nsig1[sig1 < thresh] = 0\nsig2[sig2 < thresh] = 0\n\n\"\"\"\nA conjunction is defined as the minimum significance\nvalue between the two maps at each vertex.\n\"\"\"\nconjunct = np.min(np.vstack((sig1, sig2)), axis=0)\n\n\n\"\"\"\nNow load the numpy array as an overlay.\nUse a high saturation point so that the\nblob will largely be colored with lower\nvalues from the lookup table.\n\"\"\"\nbrain.add_overlay(sig1, 4, 30, name=\"sig1\")\n\n\"\"\"\nA pointer to the overlay's color manager\ngets stored in the overlays dictionary.\nChange the lookup table to \"Reds\" and turn the\ncolor bar itself off, as otherwise the bars\nfor the three maps will get confusingly stacked.\n\"\"\"\nbrain.overlays[\"sig1\"].pos_bar.lut_mode = \"Reds\"\nbrain.overlays[\"sig1\"].pos_bar.visible = False\n\n\"\"\"\nNow load the other two maps and again change\nthe lookup table and turn off the color bar itself.\n\"\"\"\nbrain.add_overlay(sig2, 4, 30, name=\"sig2\")\nbrain.overlays[\"sig2\"].pos_bar.lut_mode = \"Blues\"\nbrain.overlays[\"sig2\"].pos_bar.visible = False\n\n\"\"\"\nDisplay the overlap as purple, which is what you\nget when you mix red and blue.\n\"\"\"\nbrain.add_overlay(conjunct, 4, 30, name=\"conjunct\")\nbrain.overlays[\"conjunct\"].pos_bar.lut_mode = \"Purples\"\nbrain.overlays[\"conjunct\"].pos_bar.visible = False"
      ]
    }
  ],
  "metadata": {
    "kernelspec": {
      "display_name": "Python 3",
      "language": "python",
      "name": "python3"
    },
    "language_info": {
      "codemirror_mode": {
        "name": "ipython",
        "version": 3
      },
      "file_extension": ".py",
      "mimetype": "text/x-python",
      "name": "python",
      "nbconvert_exporter": "python",
      "pygments_lexer": "ipython3",
      "version": "3.8.0"
    }
  },
  "nbformat": 4,
  "nbformat_minor": 0
}