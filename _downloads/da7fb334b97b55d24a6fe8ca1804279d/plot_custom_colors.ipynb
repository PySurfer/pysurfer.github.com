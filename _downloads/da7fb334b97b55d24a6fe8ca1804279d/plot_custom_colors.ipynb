{
  "cells": [
    {
      "cell_type": "code",
      "execution_count": null,
      "metadata": {
        "collapsed": false
      },
      "outputs": [],
      "source": [
        "%matplotlib inline"
      ]
    },
    {
      "cell_type": "markdown",
      "metadata": {},
      "source": [
        "\n# Plot RGBA values on brain surface\n\n\nIn this example, each vertex on a 3D brain is plotted with a different\nRGBA value. Hue varies along the x-axis (right/left direction) and\nalpha varies along the z-axis (up/down direction). However, this can be\neasily generalised to other use cases.\n\n\n"
      ]
    },
    {
      "cell_type": "code",
      "execution_count": null,
      "metadata": {
        "collapsed": false
      },
      "outputs": [],
      "source": [
        "import os\nimport numpy as np\nimport matplotlib.pyplot as plt\nfrom mayavi import mlab\nfrom tvtk.api import tvtk\nfrom tvtk.common import configure_input_data\nfrom surfer import Brain\n\nprint(__doc__)\n\n# 1) define helper functions\n\n\ndef norm(x):\n    '''Normalise array betweeen 0-1'''\n    return (x - np.min(x)) / (np.max(x) - np.min(x))\n\n\n# 2) init brain and get spatial co-ordinates\n\n# params\nsubjects_dir = os.environ['SUBJECTS_DIR']\nhemi = 'lh'\nsurf = 'white'\n\n# init figure\nfig = mlab.figure()\nb = Brain('fsaverage', hemi, surf, subjects_dir=subjects_dir,\n          background='white', figure=fig)\n\n# co-ordinates\nx, y, z = b.geo[hemi].coords.T\ntris = b.geo[hemi].faces\n\n\n# 3) generate an rgba matrix, of shape n_vertices x 4\n\n# define color map\ncmap = plt.cm.viridis\n\n# change colour based on position on the x axis\nhue = norm(x)\ncolors = cmap(hue)[:, :3]\n\n# change alpha based on position on the z axis\nalpha = norm(z)\n\n# combine hue and alpha into a Nx4 matrix\nrgba_vals = np.concatenate((colors, alpha[:, None]), axis=1)\n\n\n# 4) add data to plot\n\n# plot points in x,y,z\nmesh = mlab.pipeline.triangular_mesh_source(\n    x, y, z, tris, figure=fig)\nmesh.data.point_data.scalars.number_of_components = 4  # r, g, b, a\nmesh.data.point_data.scalars = (rgba_vals * 255).astype('ubyte')\n\n# tvtk for vis\nmapper = tvtk.PolyDataMapper()\nconfigure_input_data(mapper, mesh.data)\nactor = tvtk.Actor()\nactor.mapper = mapper\nfig.scene.add_actor(actor)"
      ]
    }
  ],
  "metadata": {
    "kernelspec": {
      "display_name": "Python 3",
      "language": "python",
      "name": "python3"
    },
    "language_info": {
      "codemirror_mode": {
        "name": "ipython",
        "version": 3
      },
      "file_extension": ".py",
      "mimetype": "text/x-python",
      "name": "python",
      "nbconvert_exporter": "python",
      "pygments_lexer": "ipython3",
      "version": "3.6.5"
    }
  },
  "nbformat": 4,
  "nbformat_minor": 0
}