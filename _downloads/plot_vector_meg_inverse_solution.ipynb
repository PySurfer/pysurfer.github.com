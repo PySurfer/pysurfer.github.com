{
  "nbformat_minor": 0, 
  "nbformat": 4, 
  "cells": [
    {
      "execution_count": null, 
      "cell_type": "code", 
      "source": [
        "%matplotlib inline"
      ], 
      "outputs": [], 
      "metadata": {
        "collapsed": false
      }
    }, 
    {
      "source": [
        "\nPlot vector-valued MEG inverse solution\n=======================================\n\nData were computed using mne-python (http://martinos.org/mne).\n\n\n"
      ], 
      "cell_type": "markdown", 
      "metadata": {}
    }, 
    {
      "execution_count": null, 
      "cell_type": "code", 
      "source": [
        "import os\nimport numpy as np\n\nfrom surfer import Brain, TimeViewer  # noqa, analysis:ignore\nfrom surfer.io import read_stc\n\nprint(__doc__)\n\n# Do some basic things: define subject, surface and hemisphere(s) to plot,\n# and create the :class:`surfer.viz.Brain` object.\n\nsubject_id, surf = 'fsaverage', 'white'\nhemi = 'lh'\nbrain = Brain(subject_id, hemi, surf, size=(800, 800), interaction='terrain',\n              cortex='0.5', alpha=0.5, show_toolbar=True)\n\n# Read the MNE dSPM inverse solution\n\nhemi = 'lh'\nstc_fname = os.path.join('example_data', 'meg_source_estimate-' +\n                         hemi + '.stc')\nstc = read_stc(stc_fname)\n\n# data and vertices for which the data is defined\ndata = stc['data']\nvertices = stc['vertices']\ntime = np.linspace(stc['tmin'], stc['tmin'] + data.shape[1] * stc['tstep'],\n                   data.shape[1], endpoint=False)\n\n# MNE will soon add the option for a \"full\" inverse to be computed and stored.\n# In the meantime, we can get the equivalent for our data based on the\n# surface normals:\n\ndata_full = brain.geo['lh'].nn[vertices][..., np.newaxis] * data[:, np.newaxis]\n\n# Now we add the data and set the initial time displayed to 100 ms:\nbrain.add_data(data_full, colormap='hot', vertices=vertices, alpha=0.5,\n               smoothing_steps=5, time=time, hemi=hemi, initial_time=0.1,\n               vector_alpha=0.5)\n\n# scale colormap\nbrain.scale_data_colormap(fmin=7, fmid=14, fmax=21, transparent=True)\n\n# viewer = TimeViewer(brain)"
      ], 
      "outputs": [], 
      "metadata": {
        "collapsed": false
      }
    }
  ], 
  "metadata": {
    "kernelspec": {
      "display_name": "Python 2", 
      "name": "python2", 
      "language": "python"
    }, 
    "language_info": {
      "mimetype": "text/x-python", 
      "nbconvert_exporter": "python", 
      "name": "python", 
      "file_extension": ".py", 
      "version": "2.7.13", 
      "pygments_lexer": "ipython2", 
      "codemirror_mode": {
        "version": 2, 
        "name": "ipython"
      }
    }
  }
}