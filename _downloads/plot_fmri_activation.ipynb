{
  "nbformat_minor": 0, 
  "nbformat": 4, 
  "cells": [
    {
      "execution_count": null, 
      "cell_type": "code", 
      "source": [
        "%matplotlib inline"
      ], 
      "outputs": [], 
      "metadata": {
        "collapsed": false
      }
    }, 
    {
      "source": [
        "\n# Display fMRI Activation\n\n\nThe most straightforward way to plot activations is when you already have\na map of them defined on the Freesurfer surface. This map can be stored in any\nfile format that Nibabel can understand.\n\n\n"
      ], 
      "cell_type": "markdown", 
      "metadata": {}
    }, 
    {
      "execution_count": null, 
      "cell_type": "code", 
      "source": [
        "from surfer import Brain\n\nprint(__doc__)\n\n\"\"\"\nBring up the visualization window.\n\"\"\"\nbrain = Brain(\"fsaverage\", \"lh\", \"inflated\")\n\n\"\"\"\nGet a path to the overlay file.\n\"\"\"\noverlay_file = \"example_data/lh.sig.nii.gz\"\n\n\"\"\"\nDisplay the overlay on the surface using the defaults to control thresholding\nand colorbar saturation.  These can be set through your config file.\n\"\"\"\nbrain.add_overlay(overlay_file)\n\n\"\"\"\nYou can then turn the overlay off.\n\"\"\"\nbrain.overlays[\"sig\"].remove()\n\n\"\"\"\nNow add the overlay again, but this time with set threshold and showing only\nthe positive activations.\n\"\"\"\nbrain.add_overlay(overlay_file, min=5, max=20, sign=\"pos\")"
      ], 
      "outputs": [], 
      "metadata": {
        "collapsed": false
      }
    }
  ], 
  "metadata": {
    "kernelspec": {
      "display_name": "Python 2", 
      "name": "python2", 
      "language": "python"
    }, 
    "language_info": {
      "mimetype": "text/x-python", 
      "nbconvert_exporter": "python", 
      "name": "python", 
      "file_extension": ".py", 
      "version": "2.7.13", 
      "pygments_lexer": "ipython2", 
      "codemirror_mode": {
        "version": 2, 
        "name": "ipython"
      }
    }
  }
}