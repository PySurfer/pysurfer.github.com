{
  "cells": [
    {
      "cell_type": "code",
      "execution_count": null,
      "metadata": {
        "collapsed": false
      },
      "outputs": [],
      "source": [
        "%matplotlib inline"
      ]
    },
    {
      "cell_type": "markdown",
      "metadata": {},
      "source": [
        "\nPlot MEG inverse solution\n=========================\n\nData were computed using mne-python (http://martinos.org/mne)\n"
      ]
    },
    {
      "cell_type": "code",
      "execution_count": null,
      "metadata": {
        "collapsed": false
      },
      "outputs": [],
      "source": [
        "import os\nimport numpy as np\n\nfrom surfer import Brain\nfrom surfer.io import read_stc\n\nprint(__doc__)"
      ]
    },
    {
      "cell_type": "markdown",
      "metadata": {},
      "source": [
        "Set up some useful variables and make the plot.\n\n"
      ]
    },
    {
      "cell_type": "code",
      "execution_count": null,
      "metadata": {
        "collapsed": false
      },
      "outputs": [],
      "source": [
        "# define subject, surface and hemisphere(s) to plot:\n\nsubject_id, surf = 'fsaverage', 'inflated'\nhemi = 'lh'\n\n# create Brain object for visualization\nbrain = Brain(subject_id, hemi, surf, size=(400, 400), background='w',\n              interaction='terrain', cortex='bone', units='m')\n\n# label for time annotation in milliseconds\n\n\ndef time_label(t):\n    return 'time=%0.2f ms' % (t * 1e3)\n\n\n# Read MNE dSPM inverse solution and plot\n\nfor hemi in ['lh']:  # , 'rh']:\n    stc_fname = os.path.join('example_data', 'meg_source_estimate-' +\n                             hemi + '.stc')\n    stc = read_stc(stc_fname)\n\n    # data and vertices for which the data is defined\n    data = stc['data']\n    vertices = stc['vertices']\n\n    # time points (in seconds)\n    time = np.linspace(stc['tmin'], stc['tmin'] + data.shape[1] * stc['tstep'],\n                       data.shape[1], endpoint=False)\n\n    # colormap to use\n    colormap = 'hot'\n\n    # add data and set the initial time displayed to 100 ms,\n    # plotted using the nearest relevant colors\n    brain.add_data(data, colormap=colormap, vertices=vertices,\n                   smoothing_steps='nearest', time=time, time_label=time_label,\n                   hemi=hemi, initial_time=0.1, verbose=False)\n\n# scale colormap\nbrain.scale_data_colormap(fmin=13, fmid=18, fmax=22, transparent=True,\n                          verbose=False)"
      ]
    },
    {
      "cell_type": "markdown",
      "metadata": {},
      "source": [
        "To change the time displayed to 80 ms uncomment this line:\n\n"
      ]
    },
    {
      "cell_type": "code",
      "execution_count": null,
      "metadata": {
        "collapsed": false
      },
      "outputs": [],
      "source": [
        "# brain.set_time(0.08)"
      ]
    },
    {
      "cell_type": "markdown",
      "metadata": {},
      "source": [
        "uncomment these lines to use the interactive TimeViewer GUI\n\n"
      ]
    },
    {
      "cell_type": "code",
      "execution_count": null,
      "metadata": {
        "collapsed": false
      },
      "outputs": [],
      "source": [
        "# from surfer import TimeViewer\n# viewer = TimeViewer(brain)"
      ]
    }
  ],
  "metadata": {
    "kernelspec": {
      "display_name": "Python 3",
      "language": "python",
      "name": "python3"
    },
    "language_info": {
      "codemirror_mode": {
        "name": "ipython",
        "version": 3
      },
      "file_extension": ".py",
      "mimetype": "text/x-python",
      "name": "python",
      "nbconvert_exporter": "python",
      "pygments_lexer": "ipython3",
      "version": "3.8.0"
    }
  },
  "nbformat": 4,
  "nbformat_minor": 0
}