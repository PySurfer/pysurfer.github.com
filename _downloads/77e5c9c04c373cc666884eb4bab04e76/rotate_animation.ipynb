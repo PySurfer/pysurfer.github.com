{
  "cells": [
    {
      "cell_type": "code",
      "execution_count": null,
      "metadata": {
        "collapsed": false
      },
      "outputs": [],
      "source": [
        "%matplotlib inline"
      ]
    },
    {
      "cell_type": "markdown",
      "metadata": {},
      "source": [
        "\n# Animate brain and save movie\n\n"
      ]
    },
    {
      "cell_type": "code",
      "execution_count": null,
      "metadata": {
        "collapsed": false
      },
      "outputs": [],
      "source": [
        "from surfer import Brain\n\nprint(__doc__)\n\nsub = 'fsaverage'\nhemi = 'lh'\nsurf = 'inflated'\n\nbrain = Brain(sub, hemi, surf)\n\nbrain.animate(['l', 'c'])\n\n# control number of steps\nbrain.animate(['l', 'm'], n_steps=30)\n\n# any path you can think of\nbrain.animate(['l', 'c', 'm', 'r', 'c', 'r', 'l'], n_steps=45)\n\n# full turns\nbrain.animate([\"m\"] * 3)\n\n# movies\nbrain.animate(['l', 'l'], n_steps=10, fname='simple_animation.avi')\n\n# however, rotating out of the axial plane is not allowed\ntry:\n    brain.animate(['l', 'd'])\nexcept ValueError as e:\n    print(e)"
      ]
    }
  ],
  "metadata": {
    "kernelspec": {
      "display_name": "Python 3",
      "language": "python",
      "name": "python3"
    },
    "language_info": {
      "codemirror_mode": {
        "name": "ipython",
        "version": 3
      },
      "file_extension": ".py",
      "mimetype": "text/x-python",
      "name": "python",
      "nbconvert_exporter": "python",
      "pygments_lexer": "ipython3",
      "version": "3.8.0"
    }
  },
  "nbformat": 4,
  "nbformat_minor": 0
}