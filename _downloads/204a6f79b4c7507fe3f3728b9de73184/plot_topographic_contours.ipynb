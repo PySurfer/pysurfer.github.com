{
  "cells": [
    {
      "cell_type": "code",
      "execution_count": null,
      "metadata": {
        "collapsed": false
      },
      "outputs": [],
      "source": [
        "%matplotlib inline"
      ]
    },
    {
      "cell_type": "markdown",
      "metadata": {},
      "source": [
        "\nDisplay Activation Contours\n===========================\n\nLoad a statistical overlay as a \"topographic\" contour map.\n\n\n"
      ]
    },
    {
      "cell_type": "code",
      "execution_count": null,
      "metadata": {
        "collapsed": false
      },
      "outputs": [],
      "source": [
        "import os.path as op\nfrom surfer import Brain\n\nprint(__doc__)\n\n\"\"\"\nBring up the visualization.\nContour maps looks best with the \"low_contrast\" cortex\ncolorscheme, so we will pass that as an option to the\nBrain constructor.\n\"\"\"\nbrain = Brain(\"fsaverage\", \"lh\", \"inflated\",\n              cortex=\"low_contrast\", background=\"#151540\")\n\n\"\"\"\nGet a path to the overlay file\n\"\"\"\noverlay_file = op.join(\"example_data\", \"lh.sig.nii.gz\")\n\n\"\"\"\nAdd the contour overlay with the default display settings\nContours overlays only ever use the positive components of\nyour image, but they get threshold and colormap saturation\nfrom your configuration settings just as normal overlays do.\n\"\"\"\nbrain.add_contour_overlay(overlay_file)\n\n\"\"\"\nThe Brain object can only display one contour overlay at a time,\nSo if we bring up another one, it will remove the original overlay\nbehind the scenes for us.  Here let's specify a different number of\ncontours and use a different line width.\n\"\"\"\nbrain.add_contour_overlay(overlay_file,\n                          min=2, max=20,\n                          n_contours=10,\n                          line_width=2)"
      ]
    }
  ],
  "metadata": {
    "kernelspec": {
      "display_name": "Python 3",
      "language": "python",
      "name": "python3"
    },
    "language_info": {
      "codemirror_mode": {
        "name": "ipython",
        "version": 3
      },
      "file_extension": ".py",
      "mimetype": "text/x-python",
      "name": "python",
      "nbconvert_exporter": "python",
      "pygments_lexer": "ipython3",
      "version": "3.6.5"
    }
  },
  "nbformat": 4,
  "nbformat_minor": 0
}