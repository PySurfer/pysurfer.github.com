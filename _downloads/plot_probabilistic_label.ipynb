{
  "nbformat_minor": 0, 
  "nbformat": 4, 
  "cells": [
    {
      "execution_count": null, 
      "cell_type": "code", 
      "source": [
        "%matplotlib inline"
      ], 
      "outputs": [], 
      "metadata": {
        "collapsed": false
      }
    }, 
    {
      "source": [
        "\n# Display Probabilistic Labels\n\n\nFreesurfer ships with some probabilistic labels of cytoarchitectonic\nand visual areas. Here we show several ways to visualize these labels\nto help characterize the location of your data.\n\n\n"
      ], 
      "cell_type": "markdown", 
      "metadata": {}
    }, 
    {
      "execution_count": null, 
      "cell_type": "code", 
      "source": [
        "from os import environ\nfrom os.path import join\nimport numpy as np\nfrom surfer import Brain\nfrom nibabel.freesurfer import read_label\n\nprint(__doc__)\n\nbrain = Brain(\"fsaverage\", \"lh\", \"inflated\")\n\n\"\"\"\nShow the morphometry with a continuous grayscale colormap.\n\"\"\"\nbrain.add_morphometry(\"curv\", colormap=\"binary\",\n                      min=-.8, max=.8, colorbar=False)\n\n\"\"\"\nThe easiest way to label any vertex that could be in the region is with\nadd_label.\n\"\"\"\nbrain.add_label(\"BA1_exvivo\", color=\"#A6BDDB\")\n\n\"\"\"\nYou can also threshold based on the probability of that region being at each\nvertex.\n\"\"\"\nbrain.add_label(\"BA1_exvivo\", color=\"#2B8CBE\", scalar_thresh=.5)\n\n\"\"\"\nIt's also possible to plot just the label boundary, in case you wanted to\noverlay the label on an activation plot to asses whether it falls within that\nregion.\n\"\"\"\nbrain.add_label(\"BA45_exvivo\", color=\"#F0F8FF\", borders=3, scalar_thresh=.5)\nbrain.add_label(\"BA45_exvivo\", color=\"#F0F8FF\", alpha=.3, scalar_thresh=.5)\n\n\"\"\"\nFinally, with a few tricks, you can display the whole probabilistic map.\n\"\"\"\nsubjects_dir = environ[\"SUBJECTS_DIR\"]\nlabel_file = join(subjects_dir, \"fsaverage\", \"label\", \"lh.BA6_exvivo.label\")\n\nprob_field = np.zeros_like(brain.geo['lh'].x)\nids, probs = read_label(label_file, read_scalars=True)\nprob_field[ids] = probs\nbrain.add_data(prob_field, thresh=1e-5, colormap=\"RdPu\")"
      ], 
      "outputs": [], 
      "metadata": {
        "collapsed": false
      }
    }
  ], 
  "metadata": {
    "kernelspec": {
      "display_name": "Python 2", 
      "name": "python2", 
      "language": "python"
    }, 
    "language_info": {
      "mimetype": "text/x-python", 
      "nbconvert_exporter": "python", 
      "name": "python", 
      "file_extension": ".py", 
      "version": "2.7.13", 
      "pygments_lexer": "ipython2", 
      "codemirror_mode": {
        "version": 2, 
        "name": "ipython"
      }
    }
  }
}