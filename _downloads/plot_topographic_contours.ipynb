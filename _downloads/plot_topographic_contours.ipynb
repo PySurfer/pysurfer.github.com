{
  "nbformat_minor": 0, 
  "nbformat": 4, 
  "cells": [
    {
      "execution_count": null, 
      "cell_type": "code", 
      "source": [
        "%matplotlib inline"
      ], 
      "outputs": [], 
      "metadata": {
        "collapsed": false
      }
    }, 
    {
      "source": [
        "\nDisplay Activation Contours\n===========================\n\nLoad a statistical overlay as a \"topographic\" contour map.\n\n\n"
      ], 
      "cell_type": "markdown", 
      "metadata": {}
    }, 
    {
      "execution_count": null, 
      "cell_type": "code", 
      "source": [
        "import os.path as op\nfrom surfer import Brain\n\nprint(__doc__)\n\n\"\"\"\nBring up the visualization.\nContour maps looks best with the \"low_contrast\" cortex\ncolorscheme, so we will pass that as an option to the\nBrain constructor.\n\"\"\"\nbrain = Brain(\"fsaverage\", \"lh\", \"inflated\",\n              cortex=\"low_contrast\", background=\"#151540\")\n\n\"\"\"\nGet a path to the overlay file\n\"\"\"\noverlay_file = op.join(\"example_data\", \"lh.sig.nii.gz\")\n\n\"\"\"\nAdd the contour overlay with the default display settings\nContours overlays only ever use the positive components of\nyour image, but they get threshold and colormap saturation\nfrom your configuration settings just as normal overlays do.\n\"\"\"\nbrain.add_contour_overlay(overlay_file)\n\n\"\"\"\nThe Brain object can only display one contour overlay at a time,\nSo if we bring up another one, it will remove the original overlay\nbehind the scenes for us.  Here let's specify a different number of\ncontours and use a different line width.\n\"\"\"\nbrain.add_contour_overlay(overlay_file,\n                          min=2, max=20,\n                          n_contours=10,\n                          line_width=2)"
      ], 
      "outputs": [], 
      "metadata": {
        "collapsed": false
      }
    }
  ], 
  "metadata": {
    "kernelspec": {
      "display_name": "Python 2", 
      "name": "python2", 
      "language": "python"
    }, 
    "language_info": {
      "mimetype": "text/x-python", 
      "nbconvert_exporter": "python", 
      "name": "python", 
      "file_extension": ".py", 
      "version": "2.7.13", 
      "pygments_lexer": "ipython2", 
      "codemirror_mode": {
        "version": 2, 
        "name": "ipython"
      }
    }
  }
}